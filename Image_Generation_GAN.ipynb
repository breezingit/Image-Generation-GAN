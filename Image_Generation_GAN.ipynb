{
  "nbformat": 4,
  "nbformat_minor": 0,
  "metadata": {
    "colab": {
      "provenance": [],
      "authorship_tag": "ABX9TyOfKVx/Yt1JEiLVJrVXcN+H",
      "include_colab_link": true
    },
    "kernelspec": {
      "name": "python3",
      "display_name": "Python 3"
    },
    "language_info": {
      "name": "python"
    },
    "accelerator": "GPU",
    "gpuClass": "standard",
    "widgets": {
      "application/vnd.jupyter.widget-state+json": {
        "58679913a56d446fa5e1009a6326bb52": {
          "model_module": "@jupyter-widgets/controls",
          "model_name": "HBoxModel",
          "model_module_version": "1.5.0",
          "state": {
            "_dom_classes": [],
            "_model_module": "@jupyter-widgets/controls",
            "_model_module_version": "1.5.0",
            "_model_name": "HBoxModel",
            "_view_count": null,
            "_view_module": "@jupyter-widgets/controls",
            "_view_module_version": "1.5.0",
            "_view_name": "HBoxView",
            "box_style": "",
            "children": [
              "IPY_MODEL_bdec999ac05c4b3bb1fb561016321d66",
              "IPY_MODEL_ca07f6541ef64a2ca95023cc177c4143",
              "IPY_MODEL_0f409dec17f442a79b41fab0c34d0df9"
            ],
            "layout": "IPY_MODEL_f681230179cc4b90aed6314e522b8a15"
          }
        },
        "bdec999ac05c4b3bb1fb561016321d66": {
          "model_module": "@jupyter-widgets/controls",
          "model_name": "HTMLModel",
          "model_module_version": "1.5.0",
          "state": {
            "_dom_classes": [],
            "_model_module": "@jupyter-widgets/controls",
            "_model_module_version": "1.5.0",
            "_model_name": "HTMLModel",
            "_view_count": null,
            "_view_module": "@jupyter-widgets/controls",
            "_view_module_version": "1.5.0",
            "_view_name": "HTMLView",
            "description": "",
            "description_tooltip": null,
            "layout": "IPY_MODEL_b4fac9a57a2948e699da3a8dac06f185",
            "placeholder": "​",
            "style": "IPY_MODEL_0328c849a13147ac866df1560876a86c",
            "value": "100%"
          }
        },
        "ca07f6541ef64a2ca95023cc177c4143": {
          "model_module": "@jupyter-widgets/controls",
          "model_name": "FloatProgressModel",
          "model_module_version": "1.5.0",
          "state": {
            "_dom_classes": [],
            "_model_module": "@jupyter-widgets/controls",
            "_model_module_version": "1.5.0",
            "_model_name": "FloatProgressModel",
            "_view_count": null,
            "_view_module": "@jupyter-widgets/controls",
            "_view_module_version": "1.5.0",
            "_view_name": "ProgressView",
            "bar_style": "success",
            "description": "",
            "description_tooltip": null,
            "layout": "IPY_MODEL_8b53db6d4de241c09a430d9aa98f1e56",
            "max": 497,
            "min": 0,
            "orientation": "horizontal",
            "style": "IPY_MODEL_728c5e95577c44539ad2b5d53265a0d0",
            "value": 497
          }
        },
        "0f409dec17f442a79b41fab0c34d0df9": {
          "model_module": "@jupyter-widgets/controls",
          "model_name": "HTMLModel",
          "model_module_version": "1.5.0",
          "state": {
            "_dom_classes": [],
            "_model_module": "@jupyter-widgets/controls",
            "_model_module_version": "1.5.0",
            "_model_name": "HTMLModel",
            "_view_count": null,
            "_view_module": "@jupyter-widgets/controls",
            "_view_module_version": "1.5.0",
            "_view_name": "HTMLView",
            "description": "",
            "description_tooltip": null,
            "layout": "IPY_MODEL_8401692716ed46d2826a7063e06fedae",
            "placeholder": "​",
            "style": "IPY_MODEL_4f47d14745124555b0b0335b645fabc0",
            "value": " 497/497 [02:03&lt;00:00,  4.22it/s]"
          }
        },
        "f681230179cc4b90aed6314e522b8a15": {
          "model_module": "@jupyter-widgets/base",
          "model_name": "LayoutModel",
          "model_module_version": "1.2.0",
          "state": {
            "_model_module": "@jupyter-widgets/base",
            "_model_module_version": "1.2.0",
            "_model_name": "LayoutModel",
            "_view_count": null,
            "_view_module": "@jupyter-widgets/base",
            "_view_module_version": "1.2.0",
            "_view_name": "LayoutView",
            "align_content": null,
            "align_items": null,
            "align_self": null,
            "border": null,
            "bottom": null,
            "display": null,
            "flex": null,
            "flex_flow": null,
            "grid_area": null,
            "grid_auto_columns": null,
            "grid_auto_flow": null,
            "grid_auto_rows": null,
            "grid_column": null,
            "grid_gap": null,
            "grid_row": null,
            "grid_template_areas": null,
            "grid_template_columns": null,
            "grid_template_rows": null,
            "height": null,
            "justify_content": null,
            "justify_items": null,
            "left": null,
            "margin": null,
            "max_height": null,
            "max_width": null,
            "min_height": null,
            "min_width": null,
            "object_fit": null,
            "object_position": null,
            "order": null,
            "overflow": null,
            "overflow_x": null,
            "overflow_y": null,
            "padding": null,
            "right": null,
            "top": null,
            "visibility": null,
            "width": null
          }
        },
        "b4fac9a57a2948e699da3a8dac06f185": {
          "model_module": "@jupyter-widgets/base",
          "model_name": "LayoutModel",
          "model_module_version": "1.2.0",
          "state": {
            "_model_module": "@jupyter-widgets/base",
            "_model_module_version": "1.2.0",
            "_model_name": "LayoutModel",
            "_view_count": null,
            "_view_module": "@jupyter-widgets/base",
            "_view_module_version": "1.2.0",
            "_view_name": "LayoutView",
            "align_content": null,
            "align_items": null,
            "align_self": null,
            "border": null,
            "bottom": null,
            "display": null,
            "flex": null,
            "flex_flow": null,
            "grid_area": null,
            "grid_auto_columns": null,
            "grid_auto_flow": null,
            "grid_auto_rows": null,
            "grid_column": null,
            "grid_gap": null,
            "grid_row": null,
            "grid_template_areas": null,
            "grid_template_columns": null,
            "grid_template_rows": null,
            "height": null,
            "justify_content": null,
            "justify_items": null,
            "left": null,
            "margin": null,
            "max_height": null,
            "max_width": null,
            "min_height": null,
            "min_width": null,
            "object_fit": null,
            "object_position": null,
            "order": null,
            "overflow": null,
            "overflow_x": null,
            "overflow_y": null,
            "padding": null,
            "right": null,
            "top": null,
            "visibility": null,
            "width": null
          }
        },
        "0328c849a13147ac866df1560876a86c": {
          "model_module": "@jupyter-widgets/controls",
          "model_name": "DescriptionStyleModel",
          "model_module_version": "1.5.0",
          "state": {
            "_model_module": "@jupyter-widgets/controls",
            "_model_module_version": "1.5.0",
            "_model_name": "DescriptionStyleModel",
            "_view_count": null,
            "_view_module": "@jupyter-widgets/base",
            "_view_module_version": "1.2.0",
            "_view_name": "StyleView",
            "description_width": ""
          }
        },
        "8b53db6d4de241c09a430d9aa98f1e56": {
          "model_module": "@jupyter-widgets/base",
          "model_name": "LayoutModel",
          "model_module_version": "1.2.0",
          "state": {
            "_model_module": "@jupyter-widgets/base",
            "_model_module_version": "1.2.0",
            "_model_name": "LayoutModel",
            "_view_count": null,
            "_view_module": "@jupyter-widgets/base",
            "_view_module_version": "1.2.0",
            "_view_name": "LayoutView",
            "align_content": null,
            "align_items": null,
            "align_self": null,
            "border": null,
            "bottom": null,
            "display": null,
            "flex": null,
            "flex_flow": null,
            "grid_area": null,
            "grid_auto_columns": null,
            "grid_auto_flow": null,
            "grid_auto_rows": null,
            "grid_column": null,
            "grid_gap": null,
            "grid_row": null,
            "grid_template_areas": null,
            "grid_template_columns": null,
            "grid_template_rows": null,
            "height": null,
            "justify_content": null,
            "justify_items": null,
            "left": null,
            "margin": null,
            "max_height": null,
            "max_width": null,
            "min_height": null,
            "min_width": null,
            "object_fit": null,
            "object_position": null,
            "order": null,
            "overflow": null,
            "overflow_x": null,
            "overflow_y": null,
            "padding": null,
            "right": null,
            "top": null,
            "visibility": null,
            "width": null
          }
        },
        "728c5e95577c44539ad2b5d53265a0d0": {
          "model_module": "@jupyter-widgets/controls",
          "model_name": "ProgressStyleModel",
          "model_module_version": "1.5.0",
          "state": {
            "_model_module": "@jupyter-widgets/controls",
            "_model_module_version": "1.5.0",
            "_model_name": "ProgressStyleModel",
            "_view_count": null,
            "_view_module": "@jupyter-widgets/base",
            "_view_module_version": "1.2.0",
            "_view_name": "StyleView",
            "bar_color": null,
            "description_width": ""
          }
        },
        "8401692716ed46d2826a7063e06fedae": {
          "model_module": "@jupyter-widgets/base",
          "model_name": "LayoutModel",
          "model_module_version": "1.2.0",
          "state": {
            "_model_module": "@jupyter-widgets/base",
            "_model_module_version": "1.2.0",
            "_model_name": "LayoutModel",
            "_view_count": null,
            "_view_module": "@jupyter-widgets/base",
            "_view_module_version": "1.2.0",
            "_view_name": "LayoutView",
            "align_content": null,
            "align_items": null,
            "align_self": null,
            "border": null,
            "bottom": null,
            "display": null,
            "flex": null,
            "flex_flow": null,
            "grid_area": null,
            "grid_auto_columns": null,
            "grid_auto_flow": null,
            "grid_auto_rows": null,
            "grid_column": null,
            "grid_gap": null,
            "grid_row": null,
            "grid_template_areas": null,
            "grid_template_columns": null,
            "grid_template_rows": null,
            "height": null,
            "justify_content": null,
            "justify_items": null,
            "left": null,
            "margin": null,
            "max_height": null,
            "max_width": null,
            "min_height": null,
            "min_width": null,
            "object_fit": null,
            "object_position": null,
            "order": null,
            "overflow": null,
            "overflow_x": null,
            "overflow_y": null,
            "padding": null,
            "right": null,
            "top": null,
            "visibility": null,
            "width": null
          }
        },
        "4f47d14745124555b0b0335b645fabc0": {
          "model_module": "@jupyter-widgets/controls",
          "model_name": "DescriptionStyleModel",
          "model_module_version": "1.5.0",
          "state": {
            "_model_module": "@jupyter-widgets/controls",
            "_model_module_version": "1.5.0",
            "_model_name": "DescriptionStyleModel",
            "_view_count": null,
            "_view_module": "@jupyter-widgets/base",
            "_view_module_version": "1.2.0",
            "_view_name": "StyleView",
            "description_width": ""
          }
        },
        "6a9d758e2d2e48ce8980ab5244af0fbd": {
          "model_module": "@jupyter-widgets/controls",
          "model_name": "HBoxModel",
          "model_module_version": "1.5.0",
          "state": {
            "_dom_classes": [],
            "_model_module": "@jupyter-widgets/controls",
            "_model_module_version": "1.5.0",
            "_model_name": "HBoxModel",
            "_view_count": null,
            "_view_module": "@jupyter-widgets/controls",
            "_view_module_version": "1.5.0",
            "_view_name": "HBoxView",
            "box_style": "",
            "children": [
              "IPY_MODEL_70053e20947943e3939c04e198d4001e",
              "IPY_MODEL_e20242672b1f4e9f892b902d45aee626",
              "IPY_MODEL_90d76f85990c4d8aa2e233ae79b0bdf1"
            ],
            "layout": "IPY_MODEL_a3be08e7f9474be4b5f482b32907e5ee"
          }
        },
        "70053e20947943e3939c04e198d4001e": {
          "model_module": "@jupyter-widgets/controls",
          "model_name": "HTMLModel",
          "model_module_version": "1.5.0",
          "state": {
            "_dom_classes": [],
            "_model_module": "@jupyter-widgets/controls",
            "_model_module_version": "1.5.0",
            "_model_name": "HTMLModel",
            "_view_count": null,
            "_view_module": "@jupyter-widgets/controls",
            "_view_module_version": "1.5.0",
            "_view_name": "HTMLView",
            "description": "",
            "description_tooltip": null,
            "layout": "IPY_MODEL_c84d947e0be94c18976d9b0b4f78a739",
            "placeholder": "​",
            "style": "IPY_MODEL_62f1ace41bf64497ba8c7eb5f08e93e2",
            "value": "100%"
          }
        },
        "e20242672b1f4e9f892b902d45aee626": {
          "model_module": "@jupyter-widgets/controls",
          "model_name": "FloatProgressModel",
          "model_module_version": "1.5.0",
          "state": {
            "_dom_classes": [],
            "_model_module": "@jupyter-widgets/controls",
            "_model_module_version": "1.5.0",
            "_model_name": "FloatProgressModel",
            "_view_count": null,
            "_view_module": "@jupyter-widgets/controls",
            "_view_module_version": "1.5.0",
            "_view_name": "ProgressView",
            "bar_style": "success",
            "description": "",
            "description_tooltip": null,
            "layout": "IPY_MODEL_284ca08d1da946be87462d7d936a9039",
            "max": 497,
            "min": 0,
            "orientation": "horizontal",
            "style": "IPY_MODEL_24e10bb8ce5d490ba436dd2d46ea09ef",
            "value": 497
          }
        },
        "90d76f85990c4d8aa2e233ae79b0bdf1": {
          "model_module": "@jupyter-widgets/controls",
          "model_name": "HTMLModel",
          "model_module_version": "1.5.0",
          "state": {
            "_dom_classes": [],
            "_model_module": "@jupyter-widgets/controls",
            "_model_module_version": "1.5.0",
            "_model_name": "HTMLModel",
            "_view_count": null,
            "_view_module": "@jupyter-widgets/controls",
            "_view_module_version": "1.5.0",
            "_view_name": "HTMLView",
            "description": "",
            "description_tooltip": null,
            "layout": "IPY_MODEL_c180211d6c524dd5b1d1d24d04e3ead0",
            "placeholder": "​",
            "style": "IPY_MODEL_e3852fdc9f204074a63eb4ad2d2883f7",
            "value": " 497/497 [02:02&lt;00:00,  4.22it/s]"
          }
        },
        "a3be08e7f9474be4b5f482b32907e5ee": {
          "model_module": "@jupyter-widgets/base",
          "model_name": "LayoutModel",
          "model_module_version": "1.2.0",
          "state": {
            "_model_module": "@jupyter-widgets/base",
            "_model_module_version": "1.2.0",
            "_model_name": "LayoutModel",
            "_view_count": null,
            "_view_module": "@jupyter-widgets/base",
            "_view_module_version": "1.2.0",
            "_view_name": "LayoutView",
            "align_content": null,
            "align_items": null,
            "align_self": null,
            "border": null,
            "bottom": null,
            "display": null,
            "flex": null,
            "flex_flow": null,
            "grid_area": null,
            "grid_auto_columns": null,
            "grid_auto_flow": null,
            "grid_auto_rows": null,
            "grid_column": null,
            "grid_gap": null,
            "grid_row": null,
            "grid_template_areas": null,
            "grid_template_columns": null,
            "grid_template_rows": null,
            "height": null,
            "justify_content": null,
            "justify_items": null,
            "left": null,
            "margin": null,
            "max_height": null,
            "max_width": null,
            "min_height": null,
            "min_width": null,
            "object_fit": null,
            "object_position": null,
            "order": null,
            "overflow": null,
            "overflow_x": null,
            "overflow_y": null,
            "padding": null,
            "right": null,
            "top": null,
            "visibility": null,
            "width": null
          }
        },
        "c84d947e0be94c18976d9b0b4f78a739": {
          "model_module": "@jupyter-widgets/base",
          "model_name": "LayoutModel",
          "model_module_version": "1.2.0",
          "state": {
            "_model_module": "@jupyter-widgets/base",
            "_model_module_version": "1.2.0",
            "_model_name": "LayoutModel",
            "_view_count": null,
            "_view_module": "@jupyter-widgets/base",
            "_view_module_version": "1.2.0",
            "_view_name": "LayoutView",
            "align_content": null,
            "align_items": null,
            "align_self": null,
            "border": null,
            "bottom": null,
            "display": null,
            "flex": null,
            "flex_flow": null,
            "grid_area": null,
            "grid_auto_columns": null,
            "grid_auto_flow": null,
            "grid_auto_rows": null,
            "grid_column": null,
            "grid_gap": null,
            "grid_row": null,
            "grid_template_areas": null,
            "grid_template_columns": null,
            "grid_template_rows": null,
            "height": null,
            "justify_content": null,
            "justify_items": null,
            "left": null,
            "margin": null,
            "max_height": null,
            "max_width": null,
            "min_height": null,
            "min_width": null,
            "object_fit": null,
            "object_position": null,
            "order": null,
            "overflow": null,
            "overflow_x": null,
            "overflow_y": null,
            "padding": null,
            "right": null,
            "top": null,
            "visibility": null,
            "width": null
          }
        },
        "62f1ace41bf64497ba8c7eb5f08e93e2": {
          "model_module": "@jupyter-widgets/controls",
          "model_name": "DescriptionStyleModel",
          "model_module_version": "1.5.0",
          "state": {
            "_model_module": "@jupyter-widgets/controls",
            "_model_module_version": "1.5.0",
            "_model_name": "DescriptionStyleModel",
            "_view_count": null,
            "_view_module": "@jupyter-widgets/base",
            "_view_module_version": "1.2.0",
            "_view_name": "StyleView",
            "description_width": ""
          }
        },
        "284ca08d1da946be87462d7d936a9039": {
          "model_module": "@jupyter-widgets/base",
          "model_name": "LayoutModel",
          "model_module_version": "1.2.0",
          "state": {
            "_model_module": "@jupyter-widgets/base",
            "_model_module_version": "1.2.0",
            "_model_name": "LayoutModel",
            "_view_count": null,
            "_view_module": "@jupyter-widgets/base",
            "_view_module_version": "1.2.0",
            "_view_name": "LayoutView",
            "align_content": null,
            "align_items": null,
            "align_self": null,
            "border": null,
            "bottom": null,
            "display": null,
            "flex": null,
            "flex_flow": null,
            "grid_area": null,
            "grid_auto_columns": null,
            "grid_auto_flow": null,
            "grid_auto_rows": null,
            "grid_column": null,
            "grid_gap": null,
            "grid_row": null,
            "grid_template_areas": null,
            "grid_template_columns": null,
            "grid_template_rows": null,
            "height": null,
            "justify_content": null,
            "justify_items": null,
            "left": null,
            "margin": null,
            "max_height": null,
            "max_width": null,
            "min_height": null,
            "min_width": null,
            "object_fit": null,
            "object_position": null,
            "order": null,
            "overflow": null,
            "overflow_x": null,
            "overflow_y": null,
            "padding": null,
            "right": null,
            "top": null,
            "visibility": null,
            "width": null
          }
        },
        "24e10bb8ce5d490ba436dd2d46ea09ef": {
          "model_module": "@jupyter-widgets/controls",
          "model_name": "ProgressStyleModel",
          "model_module_version": "1.5.0",
          "state": {
            "_model_module": "@jupyter-widgets/controls",
            "_model_module_version": "1.5.0",
            "_model_name": "ProgressStyleModel",
            "_view_count": null,
            "_view_module": "@jupyter-widgets/base",
            "_view_module_version": "1.2.0",
            "_view_name": "StyleView",
            "bar_color": null,
            "description_width": ""
          }
        },
        "c180211d6c524dd5b1d1d24d04e3ead0": {
          "model_module": "@jupyter-widgets/base",
          "model_name": "LayoutModel",
          "model_module_version": "1.2.0",
          "state": {
            "_model_module": "@jupyter-widgets/base",
            "_model_module_version": "1.2.0",
            "_model_name": "LayoutModel",
            "_view_count": null,
            "_view_module": "@jupyter-widgets/base",
            "_view_module_version": "1.2.0",
            "_view_name": "LayoutView",
            "align_content": null,
            "align_items": null,
            "align_self": null,
            "border": null,
            "bottom": null,
            "display": null,
            "flex": null,
            "flex_flow": null,
            "grid_area": null,
            "grid_auto_columns": null,
            "grid_auto_flow": null,
            "grid_auto_rows": null,
            "grid_column": null,
            "grid_gap": null,
            "grid_row": null,
            "grid_template_areas": null,
            "grid_template_columns": null,
            "grid_template_rows": null,
            "height": null,
            "justify_content": null,
            "justify_items": null,
            "left": null,
            "margin": null,
            "max_height": null,
            "max_width": null,
            "min_height": null,
            "min_width": null,
            "object_fit": null,
            "object_position": null,
            "order": null,
            "overflow": null,
            "overflow_x": null,
            "overflow_y": null,
            "padding": null,
            "right": null,
            "top": null,
            "visibility": null,
            "width": null
          }
        },
        "e3852fdc9f204074a63eb4ad2d2883f7": {
          "model_module": "@jupyter-widgets/controls",
          "model_name": "DescriptionStyleModel",
          "model_module_version": "1.5.0",
          "state": {
            "_model_module": "@jupyter-widgets/controls",
            "_model_module_version": "1.5.0",
            "_model_name": "DescriptionStyleModel",
            "_view_count": null,
            "_view_module": "@jupyter-widgets/base",
            "_view_module_version": "1.2.0",
            "_view_name": "StyleView",
            "description_width": ""
          }
        },
        "cd17f3de52ff442287ca0a36adf38517": {
          "model_module": "@jupyter-widgets/controls",
          "model_name": "HBoxModel",
          "model_module_version": "1.5.0",
          "state": {
            "_dom_classes": [],
            "_model_module": "@jupyter-widgets/controls",
            "_model_module_version": "1.5.0",
            "_model_name": "HBoxModel",
            "_view_count": null,
            "_view_module": "@jupyter-widgets/controls",
            "_view_module_version": "1.5.0",
            "_view_name": "HBoxView",
            "box_style": "",
            "children": [
              "IPY_MODEL_ed00317edaff4151997865ce563157cd",
              "IPY_MODEL_df9d1a05991e4790af65df575c393369",
              "IPY_MODEL_738c8d8176ac4bd6b2958a6771b24dfc"
            ],
            "layout": "IPY_MODEL_0aa3c232b98c4f6d910120dbd0d39384"
          }
        },
        "ed00317edaff4151997865ce563157cd": {
          "model_module": "@jupyter-widgets/controls",
          "model_name": "HTMLModel",
          "model_module_version": "1.5.0",
          "state": {
            "_dom_classes": [],
            "_model_module": "@jupyter-widgets/controls",
            "_model_module_version": "1.5.0",
            "_model_name": "HTMLModel",
            "_view_count": null,
            "_view_module": "@jupyter-widgets/controls",
            "_view_module_version": "1.5.0",
            "_view_name": "HTMLView",
            "description": "",
            "description_tooltip": null,
            "layout": "IPY_MODEL_658c9e95f2444ec4b9c9c7e20bfbfa85",
            "placeholder": "​",
            "style": "IPY_MODEL_2d6a4bd9d00745faaa7ee5eae5adba64",
            "value": "100%"
          }
        },
        "df9d1a05991e4790af65df575c393369": {
          "model_module": "@jupyter-widgets/controls",
          "model_name": "FloatProgressModel",
          "model_module_version": "1.5.0",
          "state": {
            "_dom_classes": [],
            "_model_module": "@jupyter-widgets/controls",
            "_model_module_version": "1.5.0",
            "_model_name": "FloatProgressModel",
            "_view_count": null,
            "_view_module": "@jupyter-widgets/controls",
            "_view_module_version": "1.5.0",
            "_view_name": "ProgressView",
            "bar_style": "success",
            "description": "",
            "description_tooltip": null,
            "layout": "IPY_MODEL_e0b2ccec655244f09fe85bb0e7720d0e",
            "max": 497,
            "min": 0,
            "orientation": "horizontal",
            "style": "IPY_MODEL_56a571a298884081b11063abe88c5c2e",
            "value": 497
          }
        },
        "738c8d8176ac4bd6b2958a6771b24dfc": {
          "model_module": "@jupyter-widgets/controls",
          "model_name": "HTMLModel",
          "model_module_version": "1.5.0",
          "state": {
            "_dom_classes": [],
            "_model_module": "@jupyter-widgets/controls",
            "_model_module_version": "1.5.0",
            "_model_name": "HTMLModel",
            "_view_count": null,
            "_view_module": "@jupyter-widgets/controls",
            "_view_module_version": "1.5.0",
            "_view_name": "HTMLView",
            "description": "",
            "description_tooltip": null,
            "layout": "IPY_MODEL_c7ffc212a944440695d0250ddba4f2d4",
            "placeholder": "​",
            "style": "IPY_MODEL_84b563d294224116a5c221eda08823b6",
            "value": " 497/497 [02:02&lt;00:00,  4.23it/s]"
          }
        },
        "0aa3c232b98c4f6d910120dbd0d39384": {
          "model_module": "@jupyter-widgets/base",
          "model_name": "LayoutModel",
          "model_module_version": "1.2.0",
          "state": {
            "_model_module": "@jupyter-widgets/base",
            "_model_module_version": "1.2.0",
            "_model_name": "LayoutModel",
            "_view_count": null,
            "_view_module": "@jupyter-widgets/base",
            "_view_module_version": "1.2.0",
            "_view_name": "LayoutView",
            "align_content": null,
            "align_items": null,
            "align_self": null,
            "border": null,
            "bottom": null,
            "display": null,
            "flex": null,
            "flex_flow": null,
            "grid_area": null,
            "grid_auto_columns": null,
            "grid_auto_flow": null,
            "grid_auto_rows": null,
            "grid_column": null,
            "grid_gap": null,
            "grid_row": null,
            "grid_template_areas": null,
            "grid_template_columns": null,
            "grid_template_rows": null,
            "height": null,
            "justify_content": null,
            "justify_items": null,
            "left": null,
            "margin": null,
            "max_height": null,
            "max_width": null,
            "min_height": null,
            "min_width": null,
            "object_fit": null,
            "object_position": null,
            "order": null,
            "overflow": null,
            "overflow_x": null,
            "overflow_y": null,
            "padding": null,
            "right": null,
            "top": null,
            "visibility": null,
            "width": null
          }
        },
        "658c9e95f2444ec4b9c9c7e20bfbfa85": {
          "model_module": "@jupyter-widgets/base",
          "model_name": "LayoutModel",
          "model_module_version": "1.2.0",
          "state": {
            "_model_module": "@jupyter-widgets/base",
            "_model_module_version": "1.2.0",
            "_model_name": "LayoutModel",
            "_view_count": null,
            "_view_module": "@jupyter-widgets/base",
            "_view_module_version": "1.2.0",
            "_view_name": "LayoutView",
            "align_content": null,
            "align_items": null,
            "align_self": null,
            "border": null,
            "bottom": null,
            "display": null,
            "flex": null,
            "flex_flow": null,
            "grid_area": null,
            "grid_auto_columns": null,
            "grid_auto_flow": null,
            "grid_auto_rows": null,
            "grid_column": null,
            "grid_gap": null,
            "grid_row": null,
            "grid_template_areas": null,
            "grid_template_columns": null,
            "grid_template_rows": null,
            "height": null,
            "justify_content": null,
            "justify_items": null,
            "left": null,
            "margin": null,
            "max_height": null,
            "max_width": null,
            "min_height": null,
            "min_width": null,
            "object_fit": null,
            "object_position": null,
            "order": null,
            "overflow": null,
            "overflow_x": null,
            "overflow_y": null,
            "padding": null,
            "right": null,
            "top": null,
            "visibility": null,
            "width": null
          }
        },
        "2d6a4bd9d00745faaa7ee5eae5adba64": {
          "model_module": "@jupyter-widgets/controls",
          "model_name": "DescriptionStyleModel",
          "model_module_version": "1.5.0",
          "state": {
            "_model_module": "@jupyter-widgets/controls",
            "_model_module_version": "1.5.0",
            "_model_name": "DescriptionStyleModel",
            "_view_count": null,
            "_view_module": "@jupyter-widgets/base",
            "_view_module_version": "1.2.0",
            "_view_name": "StyleView",
            "description_width": ""
          }
        },
        "e0b2ccec655244f09fe85bb0e7720d0e": {
          "model_module": "@jupyter-widgets/base",
          "model_name": "LayoutModel",
          "model_module_version": "1.2.0",
          "state": {
            "_model_module": "@jupyter-widgets/base",
            "_model_module_version": "1.2.0",
            "_model_name": "LayoutModel",
            "_view_count": null,
            "_view_module": "@jupyter-widgets/base",
            "_view_module_version": "1.2.0",
            "_view_name": "LayoutView",
            "align_content": null,
            "align_items": null,
            "align_self": null,
            "border": null,
            "bottom": null,
            "display": null,
            "flex": null,
            "flex_flow": null,
            "grid_area": null,
            "grid_auto_columns": null,
            "grid_auto_flow": null,
            "grid_auto_rows": null,
            "grid_column": null,
            "grid_gap": null,
            "grid_row": null,
            "grid_template_areas": null,
            "grid_template_columns": null,
            "grid_template_rows": null,
            "height": null,
            "justify_content": null,
            "justify_items": null,
            "left": null,
            "margin": null,
            "max_height": null,
            "max_width": null,
            "min_height": null,
            "min_width": null,
            "object_fit": null,
            "object_position": null,
            "order": null,
            "overflow": null,
            "overflow_x": null,
            "overflow_y": null,
            "padding": null,
            "right": null,
            "top": null,
            "visibility": null,
            "width": null
          }
        },
        "56a571a298884081b11063abe88c5c2e": {
          "model_module": "@jupyter-widgets/controls",
          "model_name": "ProgressStyleModel",
          "model_module_version": "1.5.0",
          "state": {
            "_model_module": "@jupyter-widgets/controls",
            "_model_module_version": "1.5.0",
            "_model_name": "ProgressStyleModel",
            "_view_count": null,
            "_view_module": "@jupyter-widgets/base",
            "_view_module_version": "1.2.0",
            "_view_name": "StyleView",
            "bar_color": null,
            "description_width": ""
          }
        },
        "c7ffc212a944440695d0250ddba4f2d4": {
          "model_module": "@jupyter-widgets/base",
          "model_name": "LayoutModel",
          "model_module_version": "1.2.0",
          "state": {
            "_model_module": "@jupyter-widgets/base",
            "_model_module_version": "1.2.0",
            "_model_name": "LayoutModel",
            "_view_count": null,
            "_view_module": "@jupyter-widgets/base",
            "_view_module_version": "1.2.0",
            "_view_name": "LayoutView",
            "align_content": null,
            "align_items": null,
            "align_self": null,
            "border": null,
            "bottom": null,
            "display": null,
            "flex": null,
            "flex_flow": null,
            "grid_area": null,
            "grid_auto_columns": null,
            "grid_auto_flow": null,
            "grid_auto_rows": null,
            "grid_column": null,
            "grid_gap": null,
            "grid_row": null,
            "grid_template_areas": null,
            "grid_template_columns": null,
            "grid_template_rows": null,
            "height": null,
            "justify_content": null,
            "justify_items": null,
            "left": null,
            "margin": null,
            "max_height": null,
            "max_width": null,
            "min_height": null,
            "min_width": null,
            "object_fit": null,
            "object_position": null,
            "order": null,
            "overflow": null,
            "overflow_x": null,
            "overflow_y": null,
            "padding": null,
            "right": null,
            "top": null,
            "visibility": null,
            "width": null
          }
        },
        "84b563d294224116a5c221eda08823b6": {
          "model_module": "@jupyter-widgets/controls",
          "model_name": "DescriptionStyleModel",
          "model_module_version": "1.5.0",
          "state": {
            "_model_module": "@jupyter-widgets/controls",
            "_model_module_version": "1.5.0",
            "_model_name": "DescriptionStyleModel",
            "_view_count": null,
            "_view_module": "@jupyter-widgets/base",
            "_view_module_version": "1.2.0",
            "_view_name": "StyleView",
            "description_width": ""
          }
        },
        "c14ab22499f34bf9b2c5664150fa229c": {
          "model_module": "@jupyter-widgets/controls",
          "model_name": "HBoxModel",
          "model_module_version": "1.5.0",
          "state": {
            "_dom_classes": [],
            "_model_module": "@jupyter-widgets/controls",
            "_model_module_version": "1.5.0",
            "_model_name": "HBoxModel",
            "_view_count": null,
            "_view_module": "@jupyter-widgets/controls",
            "_view_module_version": "1.5.0",
            "_view_name": "HBoxView",
            "box_style": "",
            "children": [
              "IPY_MODEL_d098e08e7fc443e1b4919ab801aeb149",
              "IPY_MODEL_2c5e30665db64cbd8a361d1e9b2e4ddd",
              "IPY_MODEL_647076bbd3784e8384ee9bad1b56a181"
            ],
            "layout": "IPY_MODEL_93db30d8641742368eb6ca9c3be150d3"
          }
        },
        "d098e08e7fc443e1b4919ab801aeb149": {
          "model_module": "@jupyter-widgets/controls",
          "model_name": "HTMLModel",
          "model_module_version": "1.5.0",
          "state": {
            "_dom_classes": [],
            "_model_module": "@jupyter-widgets/controls",
            "_model_module_version": "1.5.0",
            "_model_name": "HTMLModel",
            "_view_count": null,
            "_view_module": "@jupyter-widgets/controls",
            "_view_module_version": "1.5.0",
            "_view_name": "HTMLView",
            "description": "",
            "description_tooltip": null,
            "layout": "IPY_MODEL_3ca37067d8fc4b8f9b587e494a949be4",
            "placeholder": "​",
            "style": "IPY_MODEL_06225efeda624b028de3fedfc0ff438c",
            "value": " 77%"
          }
        },
        "2c5e30665db64cbd8a361d1e9b2e4ddd": {
          "model_module": "@jupyter-widgets/controls",
          "model_name": "FloatProgressModel",
          "model_module_version": "1.5.0",
          "state": {
            "_dom_classes": [],
            "_model_module": "@jupyter-widgets/controls",
            "_model_module_version": "1.5.0",
            "_model_name": "FloatProgressModel",
            "_view_count": null,
            "_view_module": "@jupyter-widgets/controls",
            "_view_module_version": "1.5.0",
            "_view_name": "ProgressView",
            "bar_style": "",
            "description": "",
            "description_tooltip": null,
            "layout": "IPY_MODEL_b91a4fe699df4c708cb3a37c493ab016",
            "max": 497,
            "min": 0,
            "orientation": "horizontal",
            "style": "IPY_MODEL_b1fe385317724fcaa683a8525c935702",
            "value": 384
          }
        },
        "647076bbd3784e8384ee9bad1b56a181": {
          "model_module": "@jupyter-widgets/controls",
          "model_name": "HTMLModel",
          "model_module_version": "1.5.0",
          "state": {
            "_dom_classes": [],
            "_model_module": "@jupyter-widgets/controls",
            "_model_module_version": "1.5.0",
            "_model_name": "HTMLModel",
            "_view_count": null,
            "_view_module": "@jupyter-widgets/controls",
            "_view_module_version": "1.5.0",
            "_view_name": "HTMLView",
            "description": "",
            "description_tooltip": null,
            "layout": "IPY_MODEL_7fb8a3a5ea8345ebb44a3253b8dd25a3",
            "placeholder": "​",
            "style": "IPY_MODEL_3f57178c3c38409484128a944ab5f240",
            "value": " 384/497 [01:34&lt;00:27,  4.05it/s]"
          }
        },
        "93db30d8641742368eb6ca9c3be150d3": {
          "model_module": "@jupyter-widgets/base",
          "model_name": "LayoutModel",
          "model_module_version": "1.2.0",
          "state": {
            "_model_module": "@jupyter-widgets/base",
            "_model_module_version": "1.2.0",
            "_model_name": "LayoutModel",
            "_view_count": null,
            "_view_module": "@jupyter-widgets/base",
            "_view_module_version": "1.2.0",
            "_view_name": "LayoutView",
            "align_content": null,
            "align_items": null,
            "align_self": null,
            "border": null,
            "bottom": null,
            "display": null,
            "flex": null,
            "flex_flow": null,
            "grid_area": null,
            "grid_auto_columns": null,
            "grid_auto_flow": null,
            "grid_auto_rows": null,
            "grid_column": null,
            "grid_gap": null,
            "grid_row": null,
            "grid_template_areas": null,
            "grid_template_columns": null,
            "grid_template_rows": null,
            "height": null,
            "justify_content": null,
            "justify_items": null,
            "left": null,
            "margin": null,
            "max_height": null,
            "max_width": null,
            "min_height": null,
            "min_width": null,
            "object_fit": null,
            "object_position": null,
            "order": null,
            "overflow": null,
            "overflow_x": null,
            "overflow_y": null,
            "padding": null,
            "right": null,
            "top": null,
            "visibility": null,
            "width": null
          }
        },
        "3ca37067d8fc4b8f9b587e494a949be4": {
          "model_module": "@jupyter-widgets/base",
          "model_name": "LayoutModel",
          "model_module_version": "1.2.0",
          "state": {
            "_model_module": "@jupyter-widgets/base",
            "_model_module_version": "1.2.0",
            "_model_name": "LayoutModel",
            "_view_count": null,
            "_view_module": "@jupyter-widgets/base",
            "_view_module_version": "1.2.0",
            "_view_name": "LayoutView",
            "align_content": null,
            "align_items": null,
            "align_self": null,
            "border": null,
            "bottom": null,
            "display": null,
            "flex": null,
            "flex_flow": null,
            "grid_area": null,
            "grid_auto_columns": null,
            "grid_auto_flow": null,
            "grid_auto_rows": null,
            "grid_column": null,
            "grid_gap": null,
            "grid_row": null,
            "grid_template_areas": null,
            "grid_template_columns": null,
            "grid_template_rows": null,
            "height": null,
            "justify_content": null,
            "justify_items": null,
            "left": null,
            "margin": null,
            "max_height": null,
            "max_width": null,
            "min_height": null,
            "min_width": null,
            "object_fit": null,
            "object_position": null,
            "order": null,
            "overflow": null,
            "overflow_x": null,
            "overflow_y": null,
            "padding": null,
            "right": null,
            "top": null,
            "visibility": null,
            "width": null
          }
        },
        "06225efeda624b028de3fedfc0ff438c": {
          "model_module": "@jupyter-widgets/controls",
          "model_name": "DescriptionStyleModel",
          "model_module_version": "1.5.0",
          "state": {
            "_model_module": "@jupyter-widgets/controls",
            "_model_module_version": "1.5.0",
            "_model_name": "DescriptionStyleModel",
            "_view_count": null,
            "_view_module": "@jupyter-widgets/base",
            "_view_module_version": "1.2.0",
            "_view_name": "StyleView",
            "description_width": ""
          }
        },
        "b91a4fe699df4c708cb3a37c493ab016": {
          "model_module": "@jupyter-widgets/base",
          "model_name": "LayoutModel",
          "model_module_version": "1.2.0",
          "state": {
            "_model_module": "@jupyter-widgets/base",
            "_model_module_version": "1.2.0",
            "_model_name": "LayoutModel",
            "_view_count": null,
            "_view_module": "@jupyter-widgets/base",
            "_view_module_version": "1.2.0",
            "_view_name": "LayoutView",
            "align_content": null,
            "align_items": null,
            "align_self": null,
            "border": null,
            "bottom": null,
            "display": null,
            "flex": null,
            "flex_flow": null,
            "grid_area": null,
            "grid_auto_columns": null,
            "grid_auto_flow": null,
            "grid_auto_rows": null,
            "grid_column": null,
            "grid_gap": null,
            "grid_row": null,
            "grid_template_areas": null,
            "grid_template_columns": null,
            "grid_template_rows": null,
            "height": null,
            "justify_content": null,
            "justify_items": null,
            "left": null,
            "margin": null,
            "max_height": null,
            "max_width": null,
            "min_height": null,
            "min_width": null,
            "object_fit": null,
            "object_position": null,
            "order": null,
            "overflow": null,
            "overflow_x": null,
            "overflow_y": null,
            "padding": null,
            "right": null,
            "top": null,
            "visibility": null,
            "width": null
          }
        },
        "b1fe385317724fcaa683a8525c935702": {
          "model_module": "@jupyter-widgets/controls",
          "model_name": "ProgressStyleModel",
          "model_module_version": "1.5.0",
          "state": {
            "_model_module": "@jupyter-widgets/controls",
            "_model_module_version": "1.5.0",
            "_model_name": "ProgressStyleModel",
            "_view_count": null,
            "_view_module": "@jupyter-widgets/base",
            "_view_module_version": "1.2.0",
            "_view_name": "StyleView",
            "bar_color": null,
            "description_width": ""
          }
        },
        "7fb8a3a5ea8345ebb44a3253b8dd25a3": {
          "model_module": "@jupyter-widgets/base",
          "model_name": "LayoutModel",
          "model_module_version": "1.2.0",
          "state": {
            "_model_module": "@jupyter-widgets/base",
            "_model_module_version": "1.2.0",
            "_model_name": "LayoutModel",
            "_view_count": null,
            "_view_module": "@jupyter-widgets/base",
            "_view_module_version": "1.2.0",
            "_view_name": "LayoutView",
            "align_content": null,
            "align_items": null,
            "align_self": null,
            "border": null,
            "bottom": null,
            "display": null,
            "flex": null,
            "flex_flow": null,
            "grid_area": null,
            "grid_auto_columns": null,
            "grid_auto_flow": null,
            "grid_auto_rows": null,
            "grid_column": null,
            "grid_gap": null,
            "grid_row": null,
            "grid_template_areas": null,
            "grid_template_columns": null,
            "grid_template_rows": null,
            "height": null,
            "justify_content": null,
            "justify_items": null,
            "left": null,
            "margin": null,
            "max_height": null,
            "max_width": null,
            "min_height": null,
            "min_width": null,
            "object_fit": null,
            "object_position": null,
            "order": null,
            "overflow": null,
            "overflow_x": null,
            "overflow_y": null,
            "padding": null,
            "right": null,
            "top": null,
            "visibility": null,
            "width": null
          }
        },
        "3f57178c3c38409484128a944ab5f240": {
          "model_module": "@jupyter-widgets/controls",
          "model_name": "DescriptionStyleModel",
          "model_module_version": "1.5.0",
          "state": {
            "_model_module": "@jupyter-widgets/controls",
            "_model_module_version": "1.5.0",
            "_model_name": "DescriptionStyleModel",
            "_view_count": null,
            "_view_module": "@jupyter-widgets/base",
            "_view_module_version": "1.2.0",
            "_view_name": "StyleView",
            "description_width": ""
          }
        }
      }
    }
  },
  "cells": [
    {
      "cell_type": "markdown",
      "metadata": {
        "id": "view-in-github",
        "colab_type": "text"
      },
      "source": [
        "<a href=\"https://colab.research.google.com/github/breezingit/Image-Generation-GAN/blob/main/Image_Generation_GAN.ipynb\" target=\"_parent\"><img src=\"https://colab.research.google.com/assets/colab-badge.svg\" alt=\"Open In Colab\"/></a>"
      ]
    },
    {
      "cell_type": "markdown",
      "source": [
        "# Generative Adversarial Network (GAN)\n",
        "![gans_gfg.jpg](data:image/jpeg;base64,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)"
      ],
      "metadata": {
        "id": "Yeo499p77n3p"
      }
    },
    {
      "cell_type": "markdown",
      "source": [
        "It is called an adversarial network because the two models inside it, the discriminator and generator act as adversaries.\n",
        "We need to take care that one model doesnt get a lot better than the other because then there will no longer be an even match between the two. We want one to keep making the other better and better."
      ],
      "metadata": {
        "id": "QqIx0D9T71Q3"
      }
    },
    {
      "cell_type": "markdown",
      "source": [
        "## Downloading the dataset from Kaggle"
      ],
      "metadata": {
        "id": "XLy4Prtb-duA"
      }
    },
    {
      "cell_type": "code",
      "execution_count": null,
      "metadata": {
        "id": "FRcGmuV0worC"
      },
      "outputs": [],
      "source": [
        "!pip install -q kaggle\n",
        "\n",
        "# The Kaggle API client expects this file to be in ~/.kaggle,\n",
        "# so move it there.\n",
        "!mkdir -p ~/.kaggle\n",
        "!cp kaggle.json ~/.kaggle/\n",
        "\n",
        "# This permissions change avoids a warning on Kaggle tool startup.\n",
        "!chmod 600 ~/.kaggle/kaggle.json\n",
        "\n"
      ]
    },
    {
      "cell_type": "code",
      "source": [
        "!kaggle datasets download -d splcher/animefacedataset -p datasets"
      ],
      "metadata": {
        "id": "AaWB35K1nH22"
      },
      "execution_count": null,
      "outputs": []
    },
    {
      "cell_type": "code",
      "source": [
        "!unzip \"datasets/animefacedataset.zip\" -d \"./animefacedataset\""
      ],
      "metadata": {
        "id": "Dor0cOBLn_al"
      },
      "execution_count": null,
      "outputs": []
    },
    {
      "cell_type": "code",
      "source": [
        "import os\n",
        "\n",
        "DATA_DIR = './animefacedataset'\n",
        "print(os.listdir(DATA_DIR))"
      ],
      "metadata": {
        "id": "AQ7dHX_w-DGN"
      },
      "execution_count": null,
      "outputs": []
    },
    {
      "cell_type": "code",
      "source": [
        "from torch.utils.data import DataLoader\n",
        "from torchvision.datasets import ImageFolder\n",
        "import torchvision.transforms as T\n",
        "import torch.nn as nn\n",
        "\n",
        "image_size = 64\n",
        "batch_size = 128"
      ],
      "metadata": {
        "id": "rQgxHpk_-ZEw"
      },
      "execution_count": null,
      "outputs": []
    },
    {
      "cell_type": "markdown",
      "source": [
        "We are taking mean and std deviation as 0.5 for normalization the final ranges for pixel values will be (-1,1)."
      ],
      "metadata": {
        "id": "Gudjpfoo_5H0"
      }
    },
    {
      "cell_type": "code",
      "source": [
        "stats = (0.5, 0.5, 0.5), (0.5, 0.5, 0.5)"
      ],
      "metadata": {
        "id": "N7J61ZPr_3Qt"
      },
      "execution_count": null,
      "outputs": []
    },
    {
      "cell_type": "code",
      "source": [
        "train_ds = ImageFolder('./animefacedataset', transform=T.Compose([\n",
        "    T.Resize(image_size),\n",
        "    T.CenterCrop(image_size), # image may be rectangle, so pick a 64x64 square from center\n",
        "    T.ToTensor(),\n",
        "    T.Normalize(*stats)]))\n",
        "\n",
        "train_dl = DataLoader(train_ds, \n",
        "                      batch_size, shuffle=True, num_workers=3, pin_memory=True)"
      ],
      "metadata": {
        "id": "N4AUSU-bAApz"
      },
      "execution_count": null,
      "outputs": []
    },
    {
      "cell_type": "code",
      "source": [
        "import torch\n",
        "from torchvision.utils import make_grid\n",
        "import matplotlib.pyplot as plt\n",
        "%matplotlib inline"
      ],
      "metadata": {
        "id": "cCy9T7ZqAB6T"
      },
      "execution_count": null,
      "outputs": []
    },
    {
      "cell_type": "code",
      "source": [],
      "metadata": {
        "id": "skiaID9yBZIp"
      },
      "execution_count": null,
      "outputs": []
    },
    {
      "cell_type": "code",
      "source": [
        "# we need to denormalize the images back before showing them\n",
        "# so we multiply it with the std dev and add the mean\n",
        "def denorm(img_tensors):\n",
        "    return img_tensors * stats[1][0] + stats[0][0]\n",
        "\n",
        "def show_images(images, nmax=64):\n",
        "    fig, ax = plt.subplots(figsize=(8, 8))\n",
        "    ax.set_xticks([]); ax.set_yticks([])\n",
        "    ax.imshow(make_grid(denorm(images.detach()[:nmax]), nrow=8).permute(1, 2, 0))\n",
        "    # matplotlin requires the color dimensions in the last, so we use permute\n",
        "def show_batch(dl, nmax=64):\n",
        "    for images, _ in dl:\n",
        "        show_images(images, nmax)\n",
        "        break"
      ],
      "metadata": {
        "id": "Dq7WCbH1BZ6I"
      },
      "execution_count": null,
      "outputs": []
    },
    {
      "cell_type": "code",
      "source": [
        "show_batch(train_dl)"
      ],
      "metadata": {
        "id": "u4q7coZOBdI4"
      },
      "execution_count": null,
      "outputs": []
    },
    {
      "cell_type": "markdown",
      "source": [
        "## Using the GPU"
      ],
      "metadata": {
        "id": "0VF3dVwFCRXM"
      }
    },
    {
      "cell_type": "code",
      "source": [
        "def get_default_device():\n",
        "    \"\"\"Pick GPU if available, else CPU\"\"\"\n",
        "    if torch.cuda.is_available():\n",
        "        return torch.device('cuda')\n",
        "    else:\n",
        "        return torch.device('cpu')\n",
        "    \n",
        "def to_device(data, device):\n",
        "    \"\"\"Move tensor(s) to chosen device\"\"\"\n",
        "    if isinstance(data, (list,tuple)):\n",
        "        return [to_device(x, device) for x in data]\n",
        "    return data.to(device, non_blocking=True)\n",
        "\n",
        "class DeviceDataLoader():\n",
        "    \"\"\"Wrap a dataloader to move data to a device\"\"\"\n",
        "    def __init__(self, dl, device):\n",
        "        self.dl = dl\n",
        "        self.device = device\n",
        "        \n",
        "    def __iter__(self):\n",
        "        \"\"\"Yield a batch of data after moving it to device\"\"\"\n",
        "        for b in self.dl: \n",
        "            yield to_device(b, self.device)\n",
        "\n",
        "    def __len__(self):\n",
        "        \"\"\"Number of batches\"\"\"\n",
        "        return len(self.dl)"
      ],
      "metadata": {
        "id": "oMn-BfyFBfqJ"
      },
      "execution_count": null,
      "outputs": []
    },
    {
      "cell_type": "code",
      "source": [
        "device = get_default_device()\n",
        "device"
      ],
      "metadata": {
        "id": "J9XmHjWHCT7B"
      },
      "execution_count": null,
      "outputs": []
    },
    {
      "cell_type": "code",
      "source": [
        "train_dl = DeviceDataLoader(train_dl, device)"
      ],
      "metadata": {
        "id": "5uA6zCXGCWDj"
      },
      "execution_count": null,
      "outputs": []
    },
    {
      "cell_type": "markdown",
      "source": [
        "## The Discriminator"
      ],
      "metadata": {
        "id": "OziLwKHfCZCz"
      }
    },
    {
      "cell_type": "markdown",
      "source": [
        "1. Using BatchNorm so should turn off bias as it cancels the effect of bias\n",
        "2. Also our dataset has features in larger areas, so increasing the kernel size\n",
        "3. Using LeakyRelu. ReLu ignores negative values. Leaky allows a smaller negative portion to pass as well. The discriminator is used as part of loss for generator. ReLu would just cause a lot of data to be lost."
      ],
      "metadata": {
        "id": "gBAZKMgG2249"
      }
    },
    {
      "cell_type": "code",
      "source": [
        "discriminator = nn.Sequential(\n",
        "    # in: 3 x 64 x 64\n",
        "    # 3 means the three colour channels of the image\n",
        "    \n",
        "    nn.Conv2d(3, 64, kernel_size=4, stride=2, padding=1, bias=False),\n",
        "    nn.BatchNorm2d(64),\n",
        "    nn.LeakyReLU(0.2, inplace=True), # we dont want to lose imp features here\n",
        "    # out: 64 x 32 x 32\n",
        "\n",
        "    nn.Conv2d(64, 128, kernel_size=4, stride=2, padding=1, bias=False),\n",
        "    nn.BatchNorm2d(128),\n",
        "    nn.LeakyReLU(0.2, inplace=True),\n",
        "    # out: 128 x 16 x 16\n",
        "\n",
        "    nn.Conv2d(128, 256, kernel_size=4, stride=2, padding=1, bias=False),\n",
        "    nn.BatchNorm2d(256),\n",
        "    nn.LeakyReLU(0.2, inplace=True),\n",
        "    # out: 256 x 8 x 8\n",
        "\n",
        "    nn.Conv2d(256, 512, kernel_size=4, stride=2, padding=1, bias=False),\n",
        "    nn.BatchNorm2d(512),\n",
        "    nn.LeakyReLU(0.2, inplace=True),\n",
        "    # out: 512 x 4 x 4\n",
        "\n",
        "    nn.Conv2d(512, 1, kernel_size=4, stride=1, padding=0, bias=False),\n",
        "    # out: 1 x 1 x 1\n",
        "\n",
        "    nn.Flatten(),\n",
        "    nn.Sigmoid())\n",
        "\n",
        "discriminator = to_device(discriminator, device)"
      ],
      "metadata": {
        "id": "lB5Xgts-Cdcc"
      },
      "execution_count": null,
      "outputs": []
    },
    {
      "cell_type": "code",
      "source": [
        "latent_size = 128"
      ],
      "metadata": {
        "id": "SkC4r4Ul68Hv"
      },
      "execution_count": null,
      "outputs": []
    },
    {
      "cell_type": "code",
      "source": [
        " "
      ],
      "metadata": {
        "id": "-NwFQq8ahLsq"
      },
      "execution_count": null,
      "outputs": []
    },
    {
      "cell_type": "markdown",
      "source": [
        "Think of latent size as vectors where each vector controls different features of the image. One or some combination of some vectors might control the color of the hair while one might the nose.<br> 128 is good enough for the features of an anime face here in this context.\n"
      ],
      "metadata": {
        "id": "OvVV-0pz64xK"
      }
    },
    {
      "cell_type": "code",
      "source": [
        "generator = nn.Sequential(\n",
        "    # in: latent_size x 1 x 1\n",
        "\n",
        "    nn.ConvTranspose2d(latent_size, 512, kernel_size=4, stride=1, padding=0, bias=False),\n",
        "    nn.BatchNorm2d(512),\n",
        "    nn.ReLU(True),\n",
        "    # out: 512 x 4 x 4\n",
        "\n",
        "    nn.ConvTranspose2d(512, 256, kernel_size=4, stride=2, padding=1, bias=False),\n",
        "    nn.BatchNorm2d(256),\n",
        "    nn.ReLU(True),\n",
        "    # out: 256 x 8 x 8\n",
        "\n",
        "    nn.ConvTranspose2d(256, 128, kernel_size=4, stride=2, padding=1, bias=False),\n",
        "    nn.BatchNorm2d(128),\n",
        "    nn.ReLU(True),\n",
        "    # out: 128 x 16 x 16\n",
        "\n",
        "    nn.ConvTranspose2d(128, 64, kernel_size=4, stride=2, padding=1, bias=False),\n",
        "    nn.BatchNorm2d(64),\n",
        "    nn.ReLU(True),\n",
        "    # out: 64 x 32 x 32\n",
        "\n",
        "    nn.ConvTranspose2d(64, 3, kernel_size=4, stride=2, padding=1, bias=False),\n",
        "    nn.Tanh()\n",
        "    # out: 3 x 64 x 64\n",
        ")\n"
      ],
      "metadata": {
        "id": "dEbq6BTW65uF"
      },
      "execution_count": null,
      "outputs": []
    },
    {
      "cell_type": "markdown",
      "source": [
        "We are using the tanh function. The output of the convT can be anything so we scale it to the range (-1,1). Also at the start we normalized the input images from (0,1) to (-1,1) for this."
      ],
      "metadata": {
        "id": "d2H7niVI7-Wq"
      }
    },
    {
      "cell_type": "code",
      "source": [
        "# random latent tensors\n",
        "xb = torch.randn(batch_size, latent_size, 1, 1) \n",
        "fake_images = generator(xb)\n",
        "print(fake_images.shape)\n",
        "show_images(fake_images)"
      ],
      "metadata": {
        "id": "y8WZVIHL7eEp"
      },
      "execution_count": null,
      "outputs": []
    },
    {
      "cell_type": "code",
      "source": [
        "generator = to_device(generator, device)"
      ],
      "metadata": {
        "id": "lZU6nz155nsR"
      },
      "execution_count": null,
      "outputs": []
    },
    {
      "cell_type": "markdown",
      "source": [
        "## Training the Discrimiator\n",
        "We pass real images but we should also be passing fake images because the model also learn how to classify fake images. So we just generate fake images using the generator and use those. Finally we add up the losses."
      ],
      "metadata": {
        "id": "1ned-fMB86jW"
      }
    },
    {
      "cell_type": "code",
      "source": [
        "import torch.nn.functional as F\n",
        "def train_discriminator(real_images, opt_d):\n",
        "    # Clear discriminator gradients\n",
        "    opt_d.zero_grad()\n",
        "\n",
        "    # Pass real images through discriminator\n",
        "    real_preds = discriminator(real_images)\n",
        "    # the target for the real images is 1 because they are real, the target \n",
        "    # for the fake ones will be kept 0.\n",
        "    real_targets = torch.ones(real_images.size(0), 1, device=device)\n",
        "    real_loss = F.binary_cross_entropy(real_preds, real_targets)\n",
        "    real_score = torch.mean(real_preds).item()\n",
        "    \n",
        "    # Generate fake images\n",
        "    latent = torch.randn(batch_size, latent_size, 1, 1, device=device)\n",
        "    fake_images = generator(latent)\n",
        "\n",
        "    # Pass fake images through discriminator\n",
        "    fake_targets = torch.zeros(fake_images.size(0), 1, device=device)\n",
        "    fake_preds = discriminator(fake_images)\n",
        "    fake_loss = F.binary_cross_entropy(fake_preds, fake_targets)\n",
        "    fake_score = torch.mean(fake_preds).item()\n",
        "\n",
        "    # Update discriminator weights\n",
        "    loss = real_loss + fake_loss\n",
        "    loss.backward()\n",
        "    opt_d.step()\n",
        "    return loss.item(), real_score, fake_score"
      ],
      "metadata": {
        "id": "zIGTonkO86SN"
      },
      "execution_count": null,
      "outputs": []
    },
    {
      "cell_type": "markdown",
      "source": [
        "##Training the generator\n",
        "We want the generator to be producing real images. So the discriminator telling it that the image is a fake is a loss for the generator."
      ],
      "metadata": {
        "id": "-vHPh1iv_iJm"
      }
    },
    {
      "cell_type": "code",
      "source": [
        "def train_generator(opt_g):\n",
        "    # Clear generator gradients\n",
        "    opt_g.zero_grad()\n",
        "    \n",
        "    # Generate fake images\n",
        "    latent = torch.randn(batch_size, latent_size, 1, 1, device=device)\n",
        "    fake_images = generator(latent)\n",
        "    \n",
        "    # Try to fool the discriminator\n",
        "    preds = discriminator(fake_images)\n",
        "    targets = torch.ones(batch_size, 1, device=device)\n",
        "    loss = F.binary_cross_entropy(preds, targets)\n",
        "    \n",
        "    # Update generator weights\n",
        "    loss.backward()\n",
        "    opt_g.step()\n",
        "    \n",
        "    return loss.item()"
      ],
      "metadata": {
        "id": "iuvp7j1Z9m_J"
      },
      "execution_count": null,
      "outputs": []
    },
    {
      "cell_type": "code",
      "source": [
        "import os\n",
        "from torchvision.utils import save_image\n",
        "\n",
        "sample_dir = 'generated'\n",
        "os.makedirs(sample_dir, exist_ok=True)\n",
        "\n",
        "def save_samples(index, latent_tensors, show=True):\n",
        "    fake_images = generator(latent_tensors)\n",
        "    fake_fname = 'generated-images-{0:0=4d}.png'.format(index)\n",
        "    #converts the batch of images into a grid\n",
        "    save_image(denorm(fake_images), os.path.join(sample_dir, fake_fname), nrow=8)\n",
        "    print('Saving', fake_fname)\n",
        "    if show:\n",
        "        fig, ax = plt.subplots(figsize=(8, 8))\n",
        "        ax.set_xticks([]); ax.set_yticks([])\n",
        "        ax.imshow(make_grid(fake_images.cpu().detach(), nrow=8).permute(1, 2, 0))"
      ],
      "metadata": {
        "id": "JwIvTdRoAcZK"
      },
      "execution_count": null,
      "outputs": []
    },
    {
      "cell_type": "markdown",
      "source": [
        "We want to keep using the same set of tensors so that we can see how the model is performing on the same inputs."
      ],
      "metadata": {
        "id": "EMR6i_q-Bx3C"
      }
    },
    {
      "cell_type": "code",
      "source": [
        "fixed_latent = torch.randn(64, latent_size, 1, 1, device=device)\n",
        "save_samples(0, fixed_latent)"
      ],
      "metadata": {
        "id": "OkYVpjM3A6O4"
      },
      "execution_count": null,
      "outputs": []
    },
    {
      "cell_type": "code",
      "source": [
        "from tqdm.notebook import tqdm\n",
        "import torch.nn.functional as F\n",
        "\n",
        "def fit(epochs, lr, start_idx=1):\n",
        "    torch.cuda.empty_cache()\n",
        "    \n",
        "    # Losses & scores\n",
        "    losses_g = []\n",
        "    losses_d = []\n",
        "    \n",
        "    # Create optimizers\n",
        "    opt_d = torch.optim.Adam(discriminator.parameters(), lr=lr, betas=(0.5, 0.999))\n",
        "    opt_g = torch.optim.Adam(generator.parameters(), lr=lr, betas=(0.5, 0.999))\n",
        "    \n",
        "    for epoch in range(epochs):\n",
        "        for real_images, _ in tqdm(train_dl):\n",
        "            # Train discriminator\n",
        "            loss_d, real_score, fake_score = train_discriminator(real_images, opt_d)\n",
        "            # Train generator\n",
        "            loss_g = train_generator(opt_g)\n",
        "            \n",
        "        # Record losses & scores\n",
        "        losses_g.append(loss_g)\n",
        "        losses_d.append(loss_d)\n",
        "        \n",
        "        # Log losses & scores (last batch)\n",
        "        print(\"Epoch [{}/{}], loss_g: {:.4f}, loss_d: {:.4f}\".format(\n",
        "            epoch+1, epochs, loss_g, loss_d))\n",
        "    \n",
        "        # Save generated images\n",
        "        save_samples(epoch+start_idx, fixed_latent, show=False)\n",
        "    \n",
        "    return losses_g, losses_d"
      ],
      "metadata": {
        "id": "xYQsW6lwBAQh"
      },
      "execution_count": null,
      "outputs": []
    },
    {
      "cell_type": "code",
      "source": [
        "lr = 0.0002\n",
        "epochs = 15"
      ],
      "metadata": {
        "id": "rebfjlPau-ww"
      },
      "execution_count": null,
      "outputs": []
    },
    {
      "cell_type": "code",
      "source": [
        "history = fit(epochs, lr)"
      ],
      "metadata": {
        "colab": {
          "base_uri": "https://localhost:8080/",
          "height": 249,
          "referenced_widgets": [
            "58679913a56d446fa5e1009a6326bb52",
            "bdec999ac05c4b3bb1fb561016321d66",
            "ca07f6541ef64a2ca95023cc177c4143",
            "0f409dec17f442a79b41fab0c34d0df9",
            "f681230179cc4b90aed6314e522b8a15",
            "b4fac9a57a2948e699da3a8dac06f185",
            "0328c849a13147ac866df1560876a86c",
            "8b53db6d4de241c09a430d9aa98f1e56",
            "728c5e95577c44539ad2b5d53265a0d0",
            "8401692716ed46d2826a7063e06fedae",
            "4f47d14745124555b0b0335b645fabc0",
            "6a9d758e2d2e48ce8980ab5244af0fbd",
            "70053e20947943e3939c04e198d4001e",
            "e20242672b1f4e9f892b902d45aee626",
            "90d76f85990c4d8aa2e233ae79b0bdf1",
            "a3be08e7f9474be4b5f482b32907e5ee",
            "c84d947e0be94c18976d9b0b4f78a739",
            "62f1ace41bf64497ba8c7eb5f08e93e2",
            "284ca08d1da946be87462d7d936a9039",
            "24e10bb8ce5d490ba436dd2d46ea09ef",
            "c180211d6c524dd5b1d1d24d04e3ead0",
            "e3852fdc9f204074a63eb4ad2d2883f7",
            "cd17f3de52ff442287ca0a36adf38517",
            "ed00317edaff4151997865ce563157cd",
            "df9d1a05991e4790af65df575c393369",
            "738c8d8176ac4bd6b2958a6771b24dfc",
            "0aa3c232b98c4f6d910120dbd0d39384",
            "658c9e95f2444ec4b9c9c7e20bfbfa85",
            "2d6a4bd9d00745faaa7ee5eae5adba64",
            "e0b2ccec655244f09fe85bb0e7720d0e",
            "56a571a298884081b11063abe88c5c2e",
            "c7ffc212a944440695d0250ddba4f2d4",
            "84b563d294224116a5c221eda08823b6",
            "c14ab22499f34bf9b2c5664150fa229c",
            "d098e08e7fc443e1b4919ab801aeb149",
            "2c5e30665db64cbd8a361d1e9b2e4ddd",
            "647076bbd3784e8384ee9bad1b56a181",
            "93db30d8641742368eb6ca9c3be150d3",
            "3ca37067d8fc4b8f9b587e494a949be4",
            "06225efeda624b028de3fedfc0ff438c",
            "b91a4fe699df4c708cb3a37c493ab016",
            "b1fe385317724fcaa683a8525c935702",
            "7fb8a3a5ea8345ebb44a3253b8dd25a3",
            "3f57178c3c38409484128a944ab5f240"
          ]
        },
        "id": "DCCqrWO9vDOT",
        "outputId": "d6bbe237-885b-4a36-92d9-e8fad03a5f80"
      },
      "execution_count": null,
      "outputs": [
        {
          "data": {
            "application/vnd.jupyter.widget-view+json": {
              "model_id": "58679913a56d446fa5e1009a6326bb52",
              "version_major": 2,
              "version_minor": 0
            },
            "text/plain": [
              "  0%|          | 0/497 [00:00<?, ?it/s]"
            ]
          },
          "metadata": {},
          "output_type": "display_data"
        },
        {
          "metadata": {
            "tags": null
          },
          "name": "stdout",
          "output_type": "stream",
          "text": [
            "Epoch [1/25], loss_g: 4.2353, loss_d: 0.3565, real_score: 0.7961, fake_score: 0.0880\n",
            "Saving generated-images-0001.png\n"
          ]
        },
        {
          "data": {
            "application/vnd.jupyter.widget-view+json": {
              "model_id": "6a9d758e2d2e48ce8980ab5244af0fbd",
              "version_major": 2,
              "version_minor": 0
            },
            "text/plain": [
              "  0%|          | 0/497 [00:00<?, ?it/s]"
            ]
          },
          "metadata": {},
          "output_type": "display_data"
        },
        {
          "metadata": {
            "tags": null
          },
          "name": "stdout",
          "output_type": "stream",
          "text": [
            "Epoch [2/25], loss_g: 7.2544, loss_d: 0.7664, real_score: 0.9252, fake_score: 0.4660\n",
            "Saving generated-images-0002.png\n"
          ]
        },
        {
          "data": {
            "application/vnd.jupyter.widget-view+json": {
              "model_id": "cd17f3de52ff442287ca0a36adf38517",
              "version_major": 2,
              "version_minor": 0
            },
            "text/plain": [
              "  0%|          | 0/497 [00:00<?, ?it/s]"
            ]
          },
          "metadata": {},
          "output_type": "display_data"
        },
        {
          "metadata": {
            "tags": null
          },
          "name": "stdout",
          "output_type": "stream",
          "text": [
            "Epoch [3/25], loss_g: 2.2345, loss_d: 1.1284, real_score: 0.4090, fake_score: 0.0039\n",
            "Saving generated-images-0003.png\n"
          ]
        },
        {
          "data": {
            "application/vnd.jupyter.widget-view+json": {
              "model_id": "c14ab22499f34bf9b2c5664150fa229c",
              "version_major": 2,
              "version_minor": 0
            },
            "text/plain": [
              "  0%|          | 0/497 [00:00<?, ?it/s]"
            ]
          },
          "metadata": {},
          "output_type": "display_data"
        }
      ]
    },
    {
      "cell_type": "code",
      "source": [
        "import cv2\n",
        "import os\n",
        "\n",
        "vid_fname = 'gans_training.avi'\n",
        "\n",
        "files = [os.path.join(sample_dir, f) for f in os.listdir(sample_dir) if 'generated' in f]\n",
        "files.sort()\n",
        "\n",
        "out = cv2.VideoWriter(vid_fname,cv2.VideoWriter_fourcc(*'MP4V'), 1, (530,530))\n",
        "[out.write(cv2.imread(fname)) for fname in files]\n",
        "out.release()"
      ],
      "metadata": {
        "id": "CVv-DGfQvH2M"
      },
      "execution_count": null,
      "outputs": []
    },
    {
      "cell_type": "code",
      "source": [],
      "metadata": {
        "id": "ZPvoP8KTvWmP"
      },
      "execution_count": null,
      "outputs": []
    }
  ]
}